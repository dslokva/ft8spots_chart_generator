{
 "cells": [
  {
   "cell_type": "code",
   "execution_count": 1,
   "id": "7778449e-af3a-4ac9-a8f5-2ad9335d9d38",
   "metadata": {},
   "outputs": [],
   "source": [
    "import ctypes\n",
    "import json\n",
    "\n",
    "dll = ctypes.WinDLL(f'./Ft8ChartGen.dll')\n",
    "dll.SquareToItuZone.argtypes = [ctypes.c_wchar_p]\n",
    "\n",
    "info_path = r\"./stationInfo-yearto-2021-10-01.sql\"\n",
    "zones_path = r\"./zones.json\"\n",
    "report_path = r\"./report-2021-09-24.sql\"\n",
    "spots_path =  r\"./spots.csv\""
   ]
  },
  {
   "cell_type": "code",
   "execution_count": 2,
   "id": "55c4b99a-36e4-48ea-babc-f8129355e044",
   "metadata": {},
   "outputs": [
    {
     "name": "stdout",
     "output_type": "stream",
     "text": [
      "Wall time: 16.6 s\n"
     ]
    }
   ],
   "source": [
    "%%time\n",
    "\n",
    "pref = 'INSERT  IGNORE INTO `stationInfo` VALUES ('\n",
    "zones = {}\n",
    "\n",
    "with open(info_path, mode='r', encoding='UTF-8') as file:\n",
    "    for line in file:\n",
    "        if line.startswith(pref): \n",
    "            line = line[len(pref):-3]\n",
    "            for record in line.split('),('):\n",
    "                fields = record.split(',')\n",
    "                if fields[4] != 'NULL':\n",
    "                    square = fields[4][1:7].upper().replace('\\'', '')\n",
    "                    zone = dll.SquareToItuZone(square)\n",
    "                    zones[fields[0]] = zone\n",
    "\n",
    "with open(zones_path, 'w') as f:\n",
    "    f.write(json.dumps(zones))"
   ]
  },
  {
   "cell_type": "code",
   "execution_count": 3,
   "id": "50d1a115-c0da-4654-814d-424b9e6a30ad",
   "metadata": {},
   "outputs": [
    {
     "name": "stdout",
     "output_type": "stream",
     "text": [
      "1005938\n",
      "Wall time: 546 ms\n"
     ]
    }
   ],
   "source": [
    "%%time\n",
    "\n",
    "with open(zones_path, 'r') as f:\n",
    "    zones =  json.loads(f.read())\n",
    "    \n",
    "print(len(zones))"
   ]
  },
  {
   "cell_type": "code",
   "execution_count": 4,
   "id": "8b3709c3-76a6-47ef-9e04-ec790d68e782",
   "metadata": {},
   "outputs": [
    {
     "name": "stdout",
     "output_type": "stream",
     "text": [
      "53154249\n",
      "Wall time: 2min 59s\n"
     ]
    }
   ],
   "source": [
    "%%time\n",
    "\n",
    "pref = 'INSERT INTO `report` VALUES ('\n",
    "spot_count = 0\n",
    "\n",
    "with open(report_path, mode='r', encoding='UTF-8') as in_file:\n",
    "    with open(spots_path, 'w') as out_file:\n",
    "        for line in in_file:\n",
    "            if line.startswith(pref):\n",
    "                line = line[len(pref):-3]\n",
    "                for record in line.split('),('):\n",
    "                    fields = record.split(',')\n",
    "                    if fields[4] == \"'FT8'\":\n",
    "                        zone1 = zones.get(f'{fields[1]}', 0)\n",
    "                        zone2 = zones.get(f'{fields[2]}', 0)\n",
    "                        spot = f'{fields[0]},{fields[9]},{fields[14][1:-1]},{min(zone1, zone2)},{max(zone1, zone2)}'\n",
    "                        out_file.write(f'{spot}\\n')\n",
    "                        spot_count += 1\n",
    "print(spot_count)                        "
   ]
  }
 ],
 "metadata": {
  "kernelspec": {
   "display_name": "iri-env",
   "language": "python",
   "name": "iri-env"
  },
  "language_info": {
   "codemirror_mode": {
    "name": "ipython",
    "version": 3
   },
   "file_extension": ".py",
   "mimetype": "text/x-python",
   "name": "python",
   "nbconvert_exporter": "python",
   "pygments_lexer": "ipython3",
   "version": "3.9.5"
  }
 },
 "nbformat": 4,
 "nbformat_minor": 5
}
